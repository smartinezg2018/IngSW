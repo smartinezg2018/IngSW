{
 "cells": [
  {
   "cell_type": "code",
   "execution_count": 38,
   "id": "216a81ef",
   "metadata": {},
   "outputs": [],
   "source": [
    "import requests\n",
    "import json\n",
    "\n",
    "# Config Meta App + Instagram Variables\n",
    "ig_user_id = \"17841477150087921\"\n",
    "username = \"smartinezg235\"\n",
    "app_id = \"1082994883880852\"\n",
    "app_secret = \"6e025991c9d5a0e9aed04cfbbed7cc89\"\n",
    "user_access_token = \"EAAPYZBmVY55QBPlDZBUGGYAXtKlU1e2MyUXlvHonBfaPsl0WPnymbhBXTyZBvC6cZCEa9a5xr18y39lQSewwkL0zgUcSRfefnWpuKhEtc2cPWBcllrUFULFaPxDBZBY8rfnYAbbd2WSXT2va1ON8IiBwU1ZBnpUpDdR9dVOoNTyaWDV686ZBY9NgSXHsZAtEXnnJ2IzvB6xAZCa7w0o9evwH3LwyGnZAXAjOiF\"\n",
    "long_access_token = 'EAAPYZBmVY55QBPmwdctbE4j7CKfrI7CGLEm5kshDoZAgNaMNJDGZB1jEOKZCZA4gwM2jFUwEMfVdMmh538McGfcZADhSdhXuLba321sFtrHQ9TVMqgCGMX4ZChZAXAXg1dRuZBRnwnU7zUbnvpHvNeswsqZA4eeDaRiDGOfOaSyS2xtCiaIqfQs8AmM9ooVIG9evHX'\n",
    "\n",
    "ins_token = 'IGAAWXRZC027nVBZAE1lX1l4RjgwcnV6QlRESF9ic05mYlBWZAlpUdjdXOUM1TmpnbkdUQ291dE9NYlc4X1htRm1ucll4TUN2QXRpZAnZAuOWo3UWREeWJyZAEI2TDNHZAkRmWWx4bU9TcURCbWxZAeEhKeHBCWEhKRDJsczA5RlJSNm1UWQZDZD'\n"
   ]
  },
  {
   "cell_type": "code",
   "execution_count": 48,
   "id": "09767e82",
   "metadata": {},
   "outputs": [
    {
     "data": {
      "text/plain": [
       "'thumbnail_url,media_type,media_product_type,timestamp,like_count,comments_count,media_url,permalink,comments{id,from,text,timestamp,like_count,media,parent_id,replies{from,timestamp,like_count,text},hidden,user,username}'"
      ]
     },
     "execution_count": 48,
     "metadata": {},
     "output_type": "execute_result"
    }
   ],
   "source": [
    "business_discovery_parameters = \"thumbnail_url,media_type,media_product_type,timestamp,like_count,comments_count,media_url,permalink\"\n",
    "other_parameters = \"comments{id,from,text,timestamp,like_count,media,parent_id,replies{from,timestamp,like_count,text},hidden,user,username}\"\n",
    "fields = business_discovery_parameters + \",\" + other_parameters\n",
    "fields"
   ]
  },
  {
   "cell_type": "code",
   "execution_count": 52,
   "id": "81f92f11",
   "metadata": {},
   "outputs": [
    {
     "name": "stdout",
     "output_type": "stream",
     "text": [
      "{\n",
      "    \"id\": \"18065238575349755\"\n",
      "}\n"
     ]
    }
   ],
   "source": [
    "\n",
    "comment_id = '17863310043413208'\n",
    "\n",
    "url = f\"https://graph.facebook.com/v2.0/{comment_id}/replies\"\n",
    "payload = {\n",
    "    \"message\" : \" Thanks ❤️\",\n",
    "    \"access_token\" : long_access_token\n",
    "}\n",
    "\n",
    "response = requests.post(url, params=payload)\n",
    "data = response.json()\n",
    "print(json.dumps(data, indent=4))"
   ]
  }
 ],
 "metadata": {
  "kernelspec": {
   "display_name": "env",
   "language": "python",
   "name": "python3"
  },
  "language_info": {
   "codemirror_mode": {
    "name": "ipython",
    "version": 3
   },
   "file_extension": ".py",
   "mimetype": "text/x-python",
   "name": "python",
   "nbconvert_exporter": "python",
   "pygments_lexer": "ipython3",
   "version": "3.12.3"
  }
 },
 "nbformat": 4,
 "nbformat_minor": 5
}
