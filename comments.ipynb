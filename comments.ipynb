{
 "cells": [
  {
   "cell_type": "code",
   "execution_count": 17,
   "id": "838d4ab8",
   "metadata": {},
   "outputs": [],
   "source": [
    "import http.server\n",
    "import datetime\n",
    "import socketserver\n",
    "import threading\n",
    "import subprocess\n",
    "import time\n",
    "import json\n",
    "import requests"
   ]
  },
  {
   "cell_type": "code",
   "execution_count": 18,
   "id": "b32ac226",
   "metadata": {},
   "outputs": [],
   "source": [
    "\n",
    "# Config Meta App + Instagram Variables\n",
    "ig_user_id = \"17841477150087921\"\n",
    "username = \"smartinezg235\"\n",
    "app_id = \"1082994883880852\"\n",
    "app_secret = \"6e025991c9d5a0e9aed04cfbbed7cc89\"\n",
    "user_access_token = \"EAAPYZBmVY55QBPlDZBUGGYAXtKlU1e2MyUXlvHonBfaPsl0WPnymbhBXTyZBvC6cZCEa9a5xr18y39lQSewwkL0zgUcSRfefnWpuKhEtc2cPWBcllrUFULFaPxDBZBY8rfnYAbbd2WSXT2va1ON8IiBwU1ZBnpUpDdR9dVOoNTyaWDV686ZBY9NgSXHsZAtEXnnJ2IzvB6xAZCa7w0o9evwH3LwyGnZAXAjOiF\"\n",
    "long_access_token = 'EAAPYZBmVY55QBPmwdctbE4j7CKfrI7CGLEm5kshDoZAgNaMNJDGZB1jEOKZCZA4gwM2jFUwEMfVdMmh538McGfcZADhSdhXuLba321sFtrHQ9TVMqgCGMX4ZChZAXAXg1dRuZBRnwnU7zUbnvpHvNeswsqZA4eeDaRiDGOfOaSyS2xtCiaIqfQs8AmM9ooVIG9evHX'"
   ]
  },
  {
   "cell_type": "code",
   "execution_count": null,
   "id": "743d1af7",
   "metadata": {},
   "outputs": [
    {
     "data": {
      "text/plain": [
       "'id,thumbnail_url,media_type,media_product_type,timestamp,like_count,comments_count,media_url,permalink,comments{id,from,text,timestamp,like_count,media,parent_id,replies{from,timestamp,like_count,text},hidden,user,username}'"
      ]
     },
     "execution_count": 19,
     "metadata": {},
     "output_type": "execute_result"
    }
   ],
   "source": [
    "business_discovery_parameters = \"id,comments_count\"\n",
    "other_parameters = \"comments{id,text,user,username}\"\n",
    "fields = business_discovery_parameters + \",\" + other_parameters\n",
    "fields"
   ]
  },
  {
   "cell_type": "code",
   "execution_count": 20,
   "id": "b1420b09",
   "metadata": {},
   "outputs": [
    {
     "name": "stdout",
     "output_type": "stream",
     "text": [
      "{\n",
      "    \"data\": [\n",
      "        {\n",
      "            \"id\": \"18087542869866950\",\n",
      "            \"media_type\": \"IMAGE\",\n",
      "            \"media_product_type\": \"FEED\",\n",
      "            \"timestamp\": \"2025-09-22T17:45:03+0000\",\n",
      "            \"like_count\": 0,\n",
      "            \"comments_count\": 0,\n",
      "            \"media_url\": \"https://scontent-bog2-1.cdninstagram.com/v/t51.82787-15/552864376_17846031540571670_6491695018752825859_n.jpg?stp=dst-jpg_e35_tt6&_nc_cat=101&ccb=1-7&_nc_sid=18de74&_nc_ohc=fFB1Bhjk3u8Q7kNvwEiFWTF&_nc_oc=Adl14YE7Y3_M5OF4Z4RtYgYpvg7BF2cLmbxHyEillwYy0rgEQRdauwHkfgwDM6_wDyE&_nc_zt=23&_nc_ht=scontent-bog2-1.cdninstagram.com&edm=AM6HXa8EAAAA&_nc_gid=8DCc3jt4r5fpo01hUkrb0g&oh=00_AfaDQ8pBRC9pIXYHv0MdHD02-1mC4lJ9C15gEvTjMPnDlw&oe=68D755B2\",\n",
      "            \"permalink\": \"https://www.instagram.com/p/DO6dKdJEtpX/\"\n",
      "        },\n",
      "        {\n",
      "            \"id\": \"17946606252046346\",\n",
      "            \"media_type\": \"IMAGE\",\n",
      "            \"media_product_type\": \"FEED\",\n",
      "            \"timestamp\": \"2025-09-22T17:25:04+0000\",\n",
      "            \"like_count\": 0,\n",
      "            \"comments_count\": 0,\n",
      "            \"media_url\": \"https://scontent-bog2-2.cdninstagram.com/v/t51.82787-15/552619913_17846028411571670_3736646042092172611_n.jpg?stp=dst-jpg_e35_tt6&_nc_cat=110&ccb=1-7&_nc_sid=18de74&_nc_ohc=W4latbiD_VkQ7kNvwGYV8yf&_nc_oc=AdmJJH_hkcTKHoRmgsSLBGy0VOnm0og4Mv69xiqLL_lcNEAmHoocqD6zpFxnXIbB890&_nc_zt=23&_nc_ht=scontent-bog2-2.cdninstagram.com&edm=AM6HXa8EAAAA&_nc_gid=8DCc3jt4r5fpo01hUkrb0g&oh=00_AfYOZ9RN1cxq5SbyzAv2TJA0WhJE9B_Y_f0wr1p4eeoKgg&oe=68D7494D\",\n",
      "            \"permalink\": \"https://www.instagram.com/p/DO6a3_UEoVA/\"\n",
      "        },\n",
      "        {\n",
      "            \"id\": \"18106016740594591\",\n",
      "            \"media_type\": \"IMAGE\",\n",
      "            \"media_product_type\": \"FEED\",\n",
      "            \"timestamp\": \"2025-09-22T17:22:22+0000\",\n",
      "            \"like_count\": 0,\n",
      "            \"comments_count\": 0,\n",
      "            \"media_url\": \"https://scontent-bog2-2.cdninstagram.com/v/t51.82787-15/553455012_17846027976571670_5711493788246030956_n.jpg?stp=dst-jpg_e35_tt6&_nc_cat=110&ccb=1-7&_nc_sid=18de74&_nc_ohc=ZNBtsnIQu-kQ7kNvwEdlnBF&_nc_oc=Adkq8gO8WJ-YdoU6hd7q2PMZxzEucWRsIJ0eHezCJ_E6uQATpc2LOJSwWqRdoOjEnEQ&_nc_zt=23&_nc_ht=scontent-bog2-2.cdninstagram.com&edm=AM6HXa8EAAAA&_nc_gid=8DCc3jt4r5fpo01hUkrb0g&oh=00_AfY1eue1T4QysQQw5EA3YiQZMGnBIzPto6NlO-hRxNI24g&oe=68D77432\",\n",
      "            \"permalink\": \"https://www.instagram.com/p/DO6akOqkh1k/\"\n",
      "        },\n",
      "        {\n",
      "            \"id\": \"18529755592032221\",\n",
      "            \"media_type\": \"IMAGE\",\n",
      "            \"media_product_type\": \"FEED\",\n",
      "            \"timestamp\": \"2025-09-22T06:13:57+0000\",\n",
      "            \"like_count\": 0,\n",
      "            \"comments_count\": 1,\n",
      "            \"media_url\": \"https://scontent-bog2-2.cdninstagram.com/v/t51.82787-15/552006869_17845917624571670_8579756129715442491_n.jpg?stp=dst-jpg_e35_tt6&_nc_cat=107&ccb=1-7&_nc_sid=18de74&_nc_ohc=iHN8kB-GSXwQ7kNvwGdbOBO&_nc_oc=Adl7Ulavk37KepSyFPAUEtVdIymqT19Nyci49q5WFwYLRx99SX5KaERbhCH0Ru6pLR0&_nc_zt=23&_nc_ht=scontent-bog2-2.cdninstagram.com&edm=AM6HXa8EAAAA&_nc_gid=8DCc3jt4r5fpo01hUkrb0g&oh=00_AfZmvmqlA0HqXMWcqlGG9hE4onR5U20ynR3htZHkmJBJ2A&oe=68D75714\",\n",
      "            \"permalink\": \"https://www.instagram.com/p/DO5OEwkDCAt/\",\n",
      "            \"comments\": {\n",
      "                \"data\": [\n",
      "                    {\n",
      "                        \"id\": \"18105134287586199\",\n",
      "                        \"from\": {\n",
      "                            \"id\": \"17841477150087921\",\n",
      "                            \"username\": \"smartinezg235\"\n",
      "                        },\n",
      "                        \"text\": \"me interesa de verdad\",\n",
      "                        \"timestamp\": \"2025-09-22T06:50:59+0000\",\n",
      "                        \"like_count\": 0,\n",
      "                        \"media\": {\n",
      "                            \"id\": \"18529755592032221\"\n",
      "                        },\n",
      "                        \"hidden\": false,\n",
      "                        \"user\": {\n",
      "                            \"id\": \"17841477150087921\"\n",
      "                        },\n",
      "                        \"username\": \"smartinezg235\"\n",
      "                    }\n",
      "                ]\n",
      "            }\n",
      "        },\n",
      "        {\n",
      "            \"id\": \"18044123243342498\",\n",
      "            \"media_type\": \"IMAGE\",\n",
      "            \"media_product_type\": \"FEED\",\n",
      "            \"timestamp\": \"2025-09-22T06:12:10+0000\",\n",
      "            \"like_count\": 0,\n",
      "            \"comments_count\": 1,\n",
      "            \"media_url\": \"https://scontent-bog2-1.cdninstagram.com/v/t51.82787-15/552981876_17845917495571670_574364466973850413_n.jpg?stp=dst-jpg_e35_tt6&_nc_cat=105&ccb=1-7&_nc_sid=18de74&_nc_ohc=Xs7yUQpwF3UQ7kNvwFLVO3F&_nc_oc=Admgmz3p9oSqhK2gn1Sd3DCSAh8iVUuzIIbFN5ZXfekxzTazx-RStpV5kaFwQaSrBC4&_nc_zt=23&_nc_ht=scontent-bog2-1.cdninstagram.com&edm=AM6HXa8EAAAA&_nc_gid=8DCc3jt4r5fpo01hUkrb0g&oh=00_AfZTNmbkMsmVpDEKprwuiPksAoPs1mAWAxX5RnNIzi2aZw&oe=68D7547C\",\n",
      "            \"permalink\": \"https://www.instagram.com/p/DO5N3o6DLJi/\",\n",
      "            \"comments\": {\n",
      "                \"data\": [\n",
      "                    {\n",
      "                        \"id\": \"17860557243494422\",\n",
      "                        \"from\": {\n",
      "                            \"id\": \"17841477150087921\",\n",
      "                            \"username\": \"smartinezg235\"\n",
      "                        },\n",
      "                        \"text\": \"primer comentario de la publicaci\\u00f3n\",\n",
      "                        \"timestamp\": \"2025-09-22T15:03:17+0000\",\n",
      "                        \"like_count\": 0,\n",
      "                        \"media\": {\n",
      "                            \"id\": \"18044123243342498\"\n",
      "                        },\n",
      "                        \"hidden\": false,\n",
      "                        \"user\": {\n",
      "                            \"id\": \"17841477150087921\"\n",
      "                        },\n",
      "                        \"username\": \"smartinezg235\"\n",
      "                    }\n",
      "                ]\n",
      "            }\n",
      "        }\n",
      "    ],\n",
      "    \"paging\": {\n",
      "        \"cursors\": {\n",
      "            \"before\": \"QVFIU1Bab2pXcDRiY1owSGIzTi1TZAzNkYllCbU15SnFrNU5jOWFHVTl4QWNaSldxZA3FMRTFQdnJyUHBFWTRGMGV2bVVSM3J5ZA0ZApenFQYU81NjFOc2RXbWJn\",\n",
      "            \"after\": \"QVFIU0RDVW94VkRBZAEt4VTdqOHdxT3JrRER0amxyQi1IYWxISFlyMWhHaG1Vc29wTTFjbUVubUJxTnNDMjZAqN1dVQ3NKSnpNaEtKaHYyWURWQ0wwT2gxUE1n\"\n",
      "        }\n",
      "    }\n",
      "}\n"
     ]
    },
    {
     "ename": "KeyError",
     "evalue": "'comments'",
     "output_type": "error",
     "traceback": [
      "\u001b[31m---------------------------------------------------------------------------\u001b[39m",
      "\u001b[31mKeyError\u001b[39m                                  Traceback (most recent call last)",
      "\u001b[36mCell\u001b[39m\u001b[36m \u001b[39m\u001b[32mIn[20]\u001b[39m\u001b[32m, line 11\u001b[39m\n\u001b[32m      8\u001b[39m data = response.json()\n\u001b[32m      9\u001b[39m \u001b[38;5;28mprint\u001b[39m(json.dumps(data, indent=\u001b[32m4\u001b[39m))\n\u001b[32m---> \u001b[39m\u001b[32m11\u001b[39m image_comment = \u001b[43mdata\u001b[49m\u001b[43m[\u001b[49m\u001b[33;43m\"\u001b[39;49m\u001b[33;43mdata\u001b[39;49m\u001b[33;43m\"\u001b[39;49m\u001b[43m]\u001b[49m\u001b[43m[\u001b[49m\u001b[32;43m1\u001b[39;49m\u001b[43m]\u001b[49m\u001b[43m[\u001b[49m\u001b[33;43m\"\u001b[39;49m\u001b[33;43mcomments\u001b[39;49m\u001b[33;43m\"\u001b[39;49m\u001b[43m]\u001b[49m[\u001b[33m\"\u001b[39m\u001b[33mdata\u001b[39m\u001b[33m\"\u001b[39m]\n\u001b[32m     12\u001b[39m \u001b[38;5;28mprint\u001b[39m(json.dumps(image_comment, indent=\u001b[32m4\u001b[39m))\n",
      "\u001b[31mKeyError\u001b[39m: 'comments'"
     ]
    }
   ],
   "source": [
    "url = f\"https://graph.facebook.com/v21.0/{ig_user_id}/media\"\n",
    "payload = {\n",
    "  \"fields\": fields,\n",
    "  \"access_token\" : long_access_token\n",
    "}\n",
    "\n",
    "response = requests.get(url, params=payload)\n",
    "data = response.json()\n",
    "print(json.dumps(data, indent=4))\n",
    "\n",
    "image_comment = data[\"data\"][1][\"comments\"][\"data\"]\n",
    "print(json.dumps(image_comment, indent=4))"
   ]
  },
  {
   "cell_type": "code",
   "execution_count": 21,
   "id": "27275512",
   "metadata": {},
   "outputs": [
    {
     "data": {
      "text/plain": [
       "{'data': [{'id': '18087542869866950',\n",
       "   'media_type': 'IMAGE',\n",
       "   'media_product_type': 'FEED',\n",
       "   'timestamp': '2025-09-22T17:45:03+0000',\n",
       "   'like_count': 0,\n",
       "   'comments_count': 0,\n",
       "   'media_url': 'https://scontent-bog2-1.cdninstagram.com/v/t51.82787-15/552864376_17846031540571670_6491695018752825859_n.jpg?stp=dst-jpg_e35_tt6&_nc_cat=101&ccb=1-7&_nc_sid=18de74&_nc_ohc=fFB1Bhjk3u8Q7kNvwEiFWTF&_nc_oc=Adl14YE7Y3_M5OF4Z4RtYgYpvg7BF2cLmbxHyEillwYy0rgEQRdauwHkfgwDM6_wDyE&_nc_zt=23&_nc_ht=scontent-bog2-1.cdninstagram.com&edm=AM6HXa8EAAAA&_nc_gid=8DCc3jt4r5fpo01hUkrb0g&oh=00_AfaDQ8pBRC9pIXYHv0MdHD02-1mC4lJ9C15gEvTjMPnDlw&oe=68D755B2',\n",
       "   'permalink': 'https://www.instagram.com/p/DO6dKdJEtpX/'},\n",
       "  {'id': '17946606252046346',\n",
       "   'media_type': 'IMAGE',\n",
       "   'media_product_type': 'FEED',\n",
       "   'timestamp': '2025-09-22T17:25:04+0000',\n",
       "   'like_count': 0,\n",
       "   'comments_count': 0,\n",
       "   'media_url': 'https://scontent-bog2-2.cdninstagram.com/v/t51.82787-15/552619913_17846028411571670_3736646042092172611_n.jpg?stp=dst-jpg_e35_tt6&_nc_cat=110&ccb=1-7&_nc_sid=18de74&_nc_ohc=W4latbiD_VkQ7kNvwGYV8yf&_nc_oc=AdmJJH_hkcTKHoRmgsSLBGy0VOnm0og4Mv69xiqLL_lcNEAmHoocqD6zpFxnXIbB890&_nc_zt=23&_nc_ht=scontent-bog2-2.cdninstagram.com&edm=AM6HXa8EAAAA&_nc_gid=8DCc3jt4r5fpo01hUkrb0g&oh=00_AfYOZ9RN1cxq5SbyzAv2TJA0WhJE9B_Y_f0wr1p4eeoKgg&oe=68D7494D',\n",
       "   'permalink': 'https://www.instagram.com/p/DO6a3_UEoVA/'},\n",
       "  {'id': '18106016740594591',\n",
       "   'media_type': 'IMAGE',\n",
       "   'media_product_type': 'FEED',\n",
       "   'timestamp': '2025-09-22T17:22:22+0000',\n",
       "   'like_count': 0,\n",
       "   'comments_count': 0,\n",
       "   'media_url': 'https://scontent-bog2-2.cdninstagram.com/v/t51.82787-15/553455012_17846027976571670_5711493788246030956_n.jpg?stp=dst-jpg_e35_tt6&_nc_cat=110&ccb=1-7&_nc_sid=18de74&_nc_ohc=ZNBtsnIQu-kQ7kNvwEdlnBF&_nc_oc=Adkq8gO8WJ-YdoU6hd7q2PMZxzEucWRsIJ0eHezCJ_E6uQATpc2LOJSwWqRdoOjEnEQ&_nc_zt=23&_nc_ht=scontent-bog2-2.cdninstagram.com&edm=AM6HXa8EAAAA&_nc_gid=8DCc3jt4r5fpo01hUkrb0g&oh=00_AfY1eue1T4QysQQw5EA3YiQZMGnBIzPto6NlO-hRxNI24g&oe=68D77432',\n",
       "   'permalink': 'https://www.instagram.com/p/DO6akOqkh1k/'},\n",
       "  {'id': '18529755592032221',\n",
       "   'media_type': 'IMAGE',\n",
       "   'media_product_type': 'FEED',\n",
       "   'timestamp': '2025-09-22T06:13:57+0000',\n",
       "   'like_count': 0,\n",
       "   'comments_count': 1,\n",
       "   'media_url': 'https://scontent-bog2-2.cdninstagram.com/v/t51.82787-15/552006869_17845917624571670_8579756129715442491_n.jpg?stp=dst-jpg_e35_tt6&_nc_cat=107&ccb=1-7&_nc_sid=18de74&_nc_ohc=iHN8kB-GSXwQ7kNvwGdbOBO&_nc_oc=Adl7Ulavk37KepSyFPAUEtVdIymqT19Nyci49q5WFwYLRx99SX5KaERbhCH0Ru6pLR0&_nc_zt=23&_nc_ht=scontent-bog2-2.cdninstagram.com&edm=AM6HXa8EAAAA&_nc_gid=8DCc3jt4r5fpo01hUkrb0g&oh=00_AfZmvmqlA0HqXMWcqlGG9hE4onR5U20ynR3htZHkmJBJ2A&oe=68D75714',\n",
       "   'permalink': 'https://www.instagram.com/p/DO5OEwkDCAt/',\n",
       "   'comments': {'data': [{'id': '18105134287586199',\n",
       "      'from': {'id': '17841477150087921', 'username': 'smartinezg235'},\n",
       "      'text': 'me interesa de verdad',\n",
       "      'timestamp': '2025-09-22T06:50:59+0000',\n",
       "      'like_count': 0,\n",
       "      'media': {'id': '18529755592032221'},\n",
       "      'hidden': False,\n",
       "      'user': {'id': '17841477150087921'},\n",
       "      'username': 'smartinezg235'}]}},\n",
       "  {'id': '18044123243342498',\n",
       "   'media_type': 'IMAGE',\n",
       "   'media_product_type': 'FEED',\n",
       "   'timestamp': '2025-09-22T06:12:10+0000',\n",
       "   'like_count': 0,\n",
       "   'comments_count': 1,\n",
       "   'media_url': 'https://scontent-bog2-1.cdninstagram.com/v/t51.82787-15/552981876_17845917495571670_574364466973850413_n.jpg?stp=dst-jpg_e35_tt6&_nc_cat=105&ccb=1-7&_nc_sid=18de74&_nc_ohc=Xs7yUQpwF3UQ7kNvwFLVO3F&_nc_oc=Admgmz3p9oSqhK2gn1Sd3DCSAh8iVUuzIIbFN5ZXfekxzTazx-RStpV5kaFwQaSrBC4&_nc_zt=23&_nc_ht=scontent-bog2-1.cdninstagram.com&edm=AM6HXa8EAAAA&_nc_gid=8DCc3jt4r5fpo01hUkrb0g&oh=00_AfZTNmbkMsmVpDEKprwuiPksAoPs1mAWAxX5RnNIzi2aZw&oe=68D7547C',\n",
       "   'permalink': 'https://www.instagram.com/p/DO5N3o6DLJi/',\n",
       "   'comments': {'data': [{'id': '17860557243494422',\n",
       "      'from': {'id': '17841477150087921', 'username': 'smartinezg235'},\n",
       "      'text': 'primer comentario de la publicación',\n",
       "      'timestamp': '2025-09-22T15:03:17+0000',\n",
       "      'like_count': 0,\n",
       "      'media': {'id': '18044123243342498'},\n",
       "      'hidden': False,\n",
       "      'user': {'id': '17841477150087921'},\n",
       "      'username': 'smartinezg235'}]}}],\n",
       " 'paging': {'cursors': {'before': 'QVFIU1Bab2pXcDRiY1owSGIzTi1TZAzNkYllCbU15SnFrNU5jOWFHVTl4QWNaSldxZA3FMRTFQdnJyUHBFWTRGMGV2bVVSM3J5ZA0ZApenFQYU81NjFOc2RXbWJn',\n",
       "   'after': 'QVFIU0RDVW94VkRBZAEt4VTdqOHdxT3JrRER0amxyQi1IYWxISFlyMWhHaG1Vc29wTTFjbUVubUJxTnNDMjZAqN1dVQ3NKSnpNaEtKaHYyWURWQ0wwT2gxUE1n'}}}"
      ]
     },
     "execution_count": 21,
     "metadata": {},
     "output_type": "execute_result"
    }
   ],
   "source": [
    "data"
   ]
  },
  {
   "cell_type": "code",
   "execution_count": null,
   "id": "012add17",
   "metadata": {},
   "outputs": [],
   "source": [
    "17845917483571670"
   ]
  }
 ],
 "metadata": {
  "kernelspec": {
   "display_name": "env",
   "language": "python",
   "name": "python3"
  },
  "language_info": {
   "codemirror_mode": {
    "name": "ipython",
    "version": 3
   },
   "file_extension": ".py",
   "mimetype": "text/x-python",
   "name": "python",
   "nbconvert_exporter": "python",
   "pygments_lexer": "ipython3",
   "version": "3.12.3"
  }
 },
 "nbformat": 4,
 "nbformat_minor": 5
}
