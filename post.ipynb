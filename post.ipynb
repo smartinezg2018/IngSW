{
 "cells": [
  {
   "cell_type": "code",
   "execution_count": 2,
   "id": "f7b1c975",
   "metadata": {},
   "outputs": [],
   "source": [
    "import http.server\n",
    "import datetime\n",
    "import socketserver\n",
    "import threading\n",
    "import subprocess\n",
    "import time\n",
    "import json\n",
    "import requests"
   ]
  },
  {
   "cell_type": "code",
   "execution_count": null,
   "id": "106bf06c",
   "metadata": {},
   "outputs": [
    {
     "data": {
      "text/plain": [
       "'EAAPYZBmVY55QBPmwdctbE4j7CKfrI7CGLEm5kshDoZAgNaMNJDGZB1jEOKZCZA4gwM2jFUwEMfVdMmh538McGfcZADhSdhXuLba321sFtrHQ9TVMqgCGMX4ZChZAXAXg1dRuZBRnwnU7zUbnvpHvNeswsqZA4eeDaRiDGOfOaSyS2xtCiaIqfQs8AmM9ooVIG9evHX'"
      ]
     },
     "execution_count": 6,
     "metadata": {},
     "output_type": "execute_result"
    }
   ],
   "source": [
    "import requests\n",
    "import json\n",
    "\n",
    "# Config Meta App + Instagram Variables\n",
    "ig_user_id = \"17841477150087921\"\n",
    "username = \"smartinezg235\"\n",
    "app_id = \"1082994883880852\"\n",
    "app_secret = \"6e025991c9d5a0e9aed04cfbbed7cc89\"\n",
    "user_access_token = \"EAAPYZBmVY55QBPlDZBUGGYAXtKlU1e2MyUXlvHonBfaPsl0WPnymbhBXTyZBvC6cZCEa9a5xr18y39lQSewwkL0zgUcSRfefnWpuKhEtc2cPWBcllrUFULFaPxDBZBY8rfnYAbbd2WSXT2va1ON8IiBwU1ZBnpUpDdR9dVOoNTyaWDV686ZBY9NgSXHsZAtEXnnJ2IzvB6xAZCa7w0o9evwH3LwyGnZAXAjOiF\"\n",
    "\n",
    "# Get Long Access Token\n",
    "# https://graph.facebook.com/v17.0/oauth/access_token\n",
    "# &grant_type=fb_exchange_token\n",
    "# &client_id={app_id}\n",
    "# &client_secret={app_secret}\n",
    "# &fb_exchange_token={user_access_token}\n",
    "\n",
    "url = f\"https://graph.facebook.com/v17.0/oauth/access_token?grant_type=fb_exchange_token&client_id={app_id}&client_secret={app_secret}&fb_exchange_token={user_access_token}\"\n",
    "response = requests.get(url)\n",
    "#print(response.content)\n",
    "long_access_token = response.json()[\"access_token\"]\n",
    "long_access_token"
   ]
  },
  {
   "cell_type": "code",
   "execution_count": null,
   "id": "dbe33793",
   "metadata": {},
   "outputs": [],
   "source": [
    "long_access_token = 'EAAPYZBmVY55QBPmwdctbE4j7CKfrI7CGLEm5kshDoZAgNaMNJDGZB1jEOKZCZA4gwM2jFUwEMfVdMmh538McGfcZADhSdhXuLba321sFtrHQ9TVMqgCGMX4ZChZAXAXg1dRuZBRnwnU7zUbnvpHvNeswsqZA4eeDaRiDGOfOaSyS2xtCiaIqfQs8AmM9ooVIG9evHX'"
   ]
  },
  {
   "cell_type": "markdown",
   "id": "14248d5b",
   "metadata": {},
   "source": [
    "### here i open a port locally so instagram can get my image"
   ]
  },
  {
   "cell_type": "code",
   "execution_count": 9,
   "id": "eae2cc12",
   "metadata": {},
   "outputs": [
    {
     "name": "stderr",
     "output_type": "stream",
     "text": [
      "127.0.0.1 - - [22/Sep/2025 00:20:45] \"GET //media/uploads/WhatsApp_Image_2025-09-12_at_2_zCJQR6L.40.08_PM.jpeg HTTP/1.1\" 200 -\n",
      "127.0.0.1 - - [22/Sep/2025 00:20:45] code 404, message File not found\n",
      "127.0.0.1 - - [22/Sep/2025 00:20:45] \"GET /favicon.ico HTTP/1.1\" 404 -\n",
      "127.0.0.1 - - [22/Sep/2025 00:24:00] code 404, message File not found\n",
      "127.0.0.1 - - [22/Sep/2025 00:24:00] \"GET /robots.txt HTTP/1.1\" 404 -\n",
      "127.0.0.1 - - [22/Sep/2025 00:24:00] \"GET /media/uploads/WhatsApp_Image_2025-09-12_at_2_JFcVPQO.40.08_PM.jpeg HTTP/1.1\" 200 -\n",
      "127.0.0.1 - - [22/Sep/2025 00:24:29] \"GET /media/uploads/download_Gybqm9I.jpeg HTTP/1.1\" 200 -\n",
      "127.0.0.1 - - [22/Sep/2025 00:25:46] \"GET /media/uploads/images.jpg HTTP/1.1\" 200 -\n",
      "127.0.0.1 - - [22/Sep/2025 00:29:05] \"GET /media/uploads/images_8PGpksj.jpg HTTP/1.1\" 200 -\n"
     ]
    }
   ],
   "source": [
    "\n",
    "#Start a HTTP Server\n",
    "PORT = 8080\n",
    "Handler = http.server.SimpleHTTPRequestHandler\n",
    "httpd = socketserver.TCPServer((\"\", PORT), Handler)\n",
    "thread = threading.Thread(target=httpd.serve_forever)\n",
    "thread.start()"
   ]
  },
  {
   "cell_type": "code",
   "execution_count": 10,
   "id": "65621128",
   "metadata": {},
   "outputs": [],
   "source": [
    "ngrok = subprocess.Popen([\"ngrok\", \"http\", str(PORT)], stdout=subprocess.PIPE)\n",
    "\n",
    "# Give ngrok time to start up\n",
    "time.sleep(2)"
   ]
  },
  {
   "cell_type": "code",
   "execution_count": null,
   "id": "f1a9b109",
   "metadata": {},
   "outputs": [
    {
     "name": "stdout",
     "output_type": "stream",
     "text": [
      "https://b6ef815b23d1.ngrok-free.app/images.jpg\n"
     ]
    }
   ],
   "source": [
    "#Get the public URL from ngrok\n",
    "resp = requests.get(\"http://localhost:4040/api/tunnels\")\n",
    "public_url = resp.json()[\"tunnels\"][0][\"public_url\"]\n",
    "\n",
    "#Now you can use the public URL to access your local images\n",
    "image_url = public_url + \"/images.jpg\"\n",
    "print(image_url)\n",
    "\n"
   ]
  },
  {
   "cell_type": "code",
   "execution_count": null,
   "id": "3e8d33c2",
   "metadata": {},
   "outputs": [
    {
     "ename": "",
     "evalue": "",
     "output_type": "error",
     "traceback": [
      "\u001b[1;31mThe Kernel crashed while executing code in the current cell or a previous cell. \n",
      "\u001b[1;31mPlease review the code in the cell(s) to identify a possible cause of the failure. \n",
      "\u001b[1;31mClick <a href='https://aka.ms/vscodeJupyterKernelCrash'>here</a> for more info. \n",
      "\u001b[1;31mView Jupyter <a href='command:jupyter.viewOutput'>log</a> for further details."
     ]
    }
   ],
   "source": [
    "\n",
    "ngrok.terminate()\n",
    "httpd.shutdown()"
   ]
  },
  {
   "cell_type": "code",
   "execution_count": null,
   "id": "b0eddaaf",
   "metadata": {},
   "outputs": [],
   "source": [
    "caption = \"test para la clase\"\n",
    "\n",
    "url = f\"https://graph.facebook.com/v17.0/{ig_user_id}/media\"\n",
    "payload = {\n",
    "    \"image_url\" : image_url,\n",
    "    \"caption\" : caption,\n",
    "    \"user_tags\" : '[{\"username\":\"mountainbetweenus\", \"x\":0.5, \"y\":0.5}]',\n",
    "    \"collaborators\" : '[\"mountainbetweenus\"]',\n",
    "    \"access_token\" : long_access_token,\n",
    "}\n",
    "\n",
    "#media_type\" : \"STORIES\"\n",
    "response = requests.post(url, params=payload)\n",
    "data = response.json()\n",
    "print(json.dumps(data, indent=4))\n",
    "creation_id = data[\"id\"]\n",
    "print(f\"creation_id : {creation_id}\")"
   ]
  },
  {
   "cell_type": "code",
   "execution_count": null,
   "id": "c69fc64d",
   "metadata": {},
   "outputs": [],
   "source": [
    "\n",
    "#Get limit of publish posts allowes\n",
    "url = f\"https://graph.facebook.com/v17.0/{ig_user_id}/content_publishing_limit\"\n",
    "payload = {\n",
    "  \"fields\": \"quota_usage, config\",\n",
    "  \"since\": datetime.datetime(2025, 1, 12, 7, 30).timestamp(),\n",
    "  \"access_token\": long_access_token\n",
    "}\n",
    "response = requests.get(url, params=payload)\n",
    "metadata = response.json()\n",
    "current_limit = metadata[\"data\"][0][\"quota_usage\"]\n",
    "quota_total = metadata[\"data\"][0][\"config\"][\"quota_total\"]\n",
    "print(json.dumps(metadata, indent=4))\n",
    "print(f\"You have used {current_limit} out of {quota_total} in a rolling 24-hour period\")"
   ]
  }
 ],
 "metadata": {
  "kernelspec": {
   "display_name": "env",
   "language": "python",
   "name": "python3"
  },
  "language_info": {
   "codemirror_mode": {
    "name": "ipython",
    "version": 3
   },
   "file_extension": ".py",
   "mimetype": "text/x-python",
   "name": "python",
   "nbconvert_exporter": "python",
   "pygments_lexer": "ipython3",
   "version": "3.12.3"
  }
 },
 "nbformat": 4,
 "nbformat_minor": 5
}
